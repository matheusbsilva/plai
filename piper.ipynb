{
 "cells": [
  {
   "cell_type": "code",
   "execution_count": 1,
   "metadata": {},
   "outputs": [],
   "source": [
    "from lark import InlineTransformer\n",
    "from lark import Lark"
   ]
  },
  {
   "cell_type": "code",
   "execution_count": 77,
   "metadata": {},
   "outputs": [],
   "source": [
    "grammar = r\"\"\"\n",
    "\n",
    "    ?start : pipe\n",
    "    \n",
    "    ?atom : SIGNED_NUMBER -> number\n",
    "    \n",
    "    ?expr : expr SUM_OP atom -> sum_op\n",
    "          | atom\n",
    "        \n",
    "    ?pipe : pipe \"|>\" expr\n",
    "          | expr\n",
    "    \n",
    "    SUM_OP : /[+-]/\n",
    "    %import common.SIGNED_NUMBER\n",
    "    %import common.WS\n",
    "    %ignore WS\n",
    "\n",
    "\"\"\""
   ]
  },
  {
   "cell_type": "code",
   "execution_count": 78,
   "metadata": {},
   "outputs": [],
   "source": [
    "class PipelineTransformer(InlineTransformer):\n",
    "    number = float\n",
    "        \n",
    "    def pipe(self, expr_left, expr_right):  \n",
    "        return ('+', expr_left, expr_right)\n",
    "    \n",
    "    def sum_op(self, left, op, right):\n",
    "        return (str(op), left, right)\n",
    "    "
   ]
  },
  {
   "cell_type": "code",
   "execution_count": 79,
   "metadata": {},
   "outputs": [],
   "source": [
    "pipeline_parser = Lark(grammar, parser=\"lalr\")\n",
    "pipeline = pipeline_parser.parse\n",
    "transformer = PipelineTransformer()"
   ]
  },
  {
   "cell_type": "code",
   "execution_count": 87,
   "metadata": {},
   "outputs": [],
   "source": [
    "res = pipeline(\"1+1 |> -9 |> 1 |> -8 |> 2+2\")"
   ]
  },
  {
   "cell_type": "code",
   "execution_count": 88,
   "metadata": {},
   "outputs": [
    {
     "name": "stdout",
     "output_type": "stream",
     "text": [
      "pipe\n",
      "  pipe\n",
      "    pipe\n",
      "      pipe\n",
      "        sum_op\n",
      "          number\t1\n",
      "          +\n",
      "          number\t1\n",
      "        number\t-9\n",
      "      number\t1\n",
      "    number\t-8\n",
      "  sum_op\n",
      "    number\t2\n",
      "    +\n",
      "    number\t2\n",
      "\n"
     ]
    }
   ],
   "source": [
    "print(res.pretty())"
   ]
  },
  {
   "cell_type": "code",
   "execution_count": 89,
   "metadata": {},
   "outputs": [],
   "source": [
    "t = transformer.transform(res)"
   ]
  },
  {
   "cell_type": "code",
   "execution_count": 90,
   "metadata": {},
   "outputs": [],
   "source": [
    "def eval_expr(expr):\n",
    "    if isinstance(expr, float):\n",
    "        return expr\n",
    "    \n",
    "    head, *args = expr\n",
    "\n",
    "    if isinstance(head, tuple):\n",
    "        return eval_expr(head) + eval_expr(args)\n",
    "    elif head == '+':\n",
    "        x, y = args\n",
    "        return eval_expr(x) + eval_expr(y)\n",
    "    elif head == '-':\n",
    "        x, y = args\n",
    "        return eval_expr(x) - eval_expr(y)\n",
    "\n",
    "    else:\n",
    "        raise ValueError('argumento inválido para S-expression: %r' % head)"
   ]
  },
  {
   "cell_type": "code",
   "execution_count": 91,
   "metadata": {},
   "outputs": [
    {
     "data": {
      "text/plain": [
       "-10.0"
      ]
     },
     "execution_count": 91,
     "metadata": {},
     "output_type": "execute_result"
    }
   ],
   "source": [
    "eval_expr(t)"
   ]
  },
  {
   "cell_type": "code",
   "execution_count": null,
   "metadata": {},
   "outputs": [],
   "source": []
  }
 ],
 "metadata": {
  "kernelspec": {
   "display_name": "Python 3",
   "language": "python",
   "name": "python3"
  },
  "language_info": {
   "codemirror_mode": {
    "name": "ipython",
    "version": 3
   },
   "file_extension": ".py",
   "mimetype": "text/x-python",
   "name": "python",
   "nbconvert_exporter": "python",
   "pygments_lexer": "ipython3",
   "version": "3.7.4"
  }
 },
 "nbformat": 4,
 "nbformat_minor": 2
}

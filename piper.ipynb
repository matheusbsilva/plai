{
 "cells": [
  {
   "cell_type": "code",
   "execution_count": 3,
   "metadata": {},
   "outputs": [],
   "source": [
    "from lark import InlineTransformer\n",
    "from lark import Lark"
   ]
  },
  {
   "cell_type": "code",
   "execution_count": 4,
   "metadata": {},
   "outputs": [],
   "source": [
    "grammar = r\"\"\"\n",
    "\n",
    "    ?start : pipe\n",
    "    \n",
    "    ?atom : SIGNED_NUMBER -> number\n",
    "    \n",
    "    ?expr : expr SUM_OP atom -> sum_op\n",
    "          | atom\n",
    "        \n",
    "    ?pipe : expr \"|>\" expr\n",
    "          | expr\n",
    "    \n",
    "    SUM_OP : /[+-]/\n",
    "    %import common.SIGNED_NUMBER\n",
    "    %import common.WS\n",
    "    %ignore WS\n",
    "\n",
    "\"\"\""
   ]
  },
  {
   "cell_type": "code",
   "execution_count": 5,
   "metadata": {},
   "outputs": [],
   "source": [
    "class PipelineTransformer(InlineTransformer):\n",
    "    number = float\n",
    "        \n",
    "    def pipe(self, expr_left, expr_right):  \n",
    "        return (expr_left, expr_right)\n",
    "    \n",
    "    def sum_op(self, left, op, right):\n",
    "        return (str(op), left, right)"
   ]
  },
  {
   "cell_type": "code",
   "execution_count": 6,
   "metadata": {},
   "outputs": [],
   "source": [
    "pipeline_parser = Lark(grammar, parser=\"lalr\", transformer=PipelineTransformer())\n",
    "pipeline = pipeline_parser.parse"
   ]
  },
  {
   "cell_type": "code",
   "execution_count": 7,
   "metadata": {},
   "outputs": [
    {
     "data": {
      "text/plain": [
       "(('+', 1.0, 1.0), -9.0)"
      ]
     },
     "execution_count": 7,
     "metadata": {},
     "output_type": "execute_result"
    }
   ],
   "source": [
    "pipeline(\"1+1 |> -9 \")"
   ]
  },
  {
   "cell_type": "code",
   "execution_count": null,
   "metadata": {},
   "outputs": [],
   "source": []
  }
 ],
 "metadata": {
  "kernelspec": {
   "display_name": "Python 3",
   "language": "python",
   "name": "python3"
  },
  "language_info": {
   "codemirror_mode": {
    "name": "ipython",
    "version": 3
   },
   "file_extension": ".py",
   "mimetype": "text/x-python",
   "name": "python",
   "nbconvert_exporter": "python",
   "pygments_lexer": "ipython3",
   "version": "3.7.4"
  }
 },
 "nbformat": 4,
 "nbformat_minor": 2
}
